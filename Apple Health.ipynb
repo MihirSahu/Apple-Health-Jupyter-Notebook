{
 "cells": [
  {
   "cell_type": "code",
   "execution_count": null,
   "id": "f86038e5-03e4-44dc-8b65-913928604442",
   "metadata": {},
   "outputs": [],
   "source": [
    "import xml.etree.ElementTree as ET\n",
    "import pandas as pd\n",
    "import numpy as np\n",
    "import matplotlib.pyplot as plt\n",
    "import datetime"
   ]
  },
  {
   "cell_type": "code",
   "execution_count": null,
   "id": "5eab25fc-9958-4000-bfc4-3a612ecc63fd",
   "metadata": {},
   "outputs": [],
   "source": [
    "# create element tree object\n",
    "tree = ET.parse('apple_health_export/export.xml')"
   ]
  },
  {
   "cell_type": "code",
   "execution_count": null,
   "id": "ff74b51d-b806-49b4-9321-86e8d6e9436c",
   "metadata": {},
   "outputs": [],
   "source": [
    "# for every health record, extract the attributes into a dictionary (columns). Then create a list (rows).\n",
    "root = tree.getroot()\n",
    "record_list = [x.attrib for x in root.iter('Record')]"
   ]
  },
  {
   "cell_type": "code",
   "execution_count": null,
   "id": "33e563f0-2f5c-4264-954b-0586b82f0fe2",
   "metadata": {},
   "outputs": [],
   "source": [
    "# create DataFrame from a list (rows) of dictionaries (columns)\n",
    "data = pd.DataFrame(record_list)\n",
    "#print(data)"
   ]
  },
  {
   "cell_type": "code",
   "execution_count": null,
   "id": "48284262-8071-4d4f-8cdd-e017e76bc853",
   "metadata": {},
   "outputs": [],
   "source": [
    "# proper type to dates\n",
    "for col in ['creationDate', 'startDate', 'endDate']:\n",
    "    data[col] = pd.to_datetime(data[col])\n",
    "#print(data)"
   ]
  },
  {
   "cell_type": "code",
   "execution_count": null,
   "id": "81ea2ac6-ed52-4173-84b9-1e6681b915dc",
   "metadata": {},
   "outputs": [],
   "source": [
    "# value is numeric, NaN if fails\n",
    "data['value'] = pd.to_numeric(data['value'], errors='coerce')"
   ]
  },
  {
   "cell_type": "code",
   "execution_count": null,
   "id": "dad481e1-b0f3-43cb-b26a-5dd34212a0da",
   "metadata": {},
   "outputs": [],
   "source": [
    "# some records do not measure anything, just count occurences\n",
    "# filling with 1.0 (= one time) makes it easier to aggregate\n",
    "data['value'] = data['value'].fillna(1.0)"
   ]
  },
  {
   "cell_type": "code",
   "execution_count": null,
   "id": "62397571-7f3e-4467-99c6-0f6c6de27095",
   "metadata": {},
   "outputs": [],
   "source": [
    "# shorter observation names: use vectorized replace function\n",
    "data['type'] = data['type'].str.replace('HKQuantityTypeIdentifier', '')\n",
    "data['type'] = data['type'].str.replace('HKCategoryTypeIdentifier', '')\n",
    "data['type'] = data['type'].str.replace('HKDataType', '')"
   ]
  },
  {
   "cell_type": "code",
   "execution_count": null,
   "id": "44a2f36f-67be-4f2c-83de-ce6a340af63c",
   "metadata": {},
   "outputs": [],
   "source": [
    "# What data looks like\n",
    "\n",
    "# rows x columns\n",
    "print(\"Shape:\", data.shape)\n",
    "# all column names\n",
    "print(\"Columns:\", data.columns)\n",
    "# all data types\n",
    "types = data.type.unique()\n",
    "print(\"Types:\", len(types), '\\n', types)\n",
    "print([x for x in types if 'Mind' in x])\n",
    "# data sources\n",
    "sources = data.sourceName.unique()\n",
    "print(\"Sources:\", len(sources), '\\n', sources)"
   ]
  },
  {
   "cell_type": "code",
   "execution_count": null,
   "id": "b949a902-2b8b-419b-9c2b-20c8132fee2f",
   "metadata": {},
   "outputs": [],
   "source": [
    "# pivot and resample\n",
    "# body mass and total walking distance\n",
    "pivot_df = data.pivot_table(index='endDate', columns='type', values='value')"
   ]
  },
  {
   "cell_type": "code",
   "execution_count": null,
   "id": "b8cae631-5ec5-48ba-ae72-09975f1af77e",
   "metadata": {},
   "outputs": [],
   "source": [
    "df = pivot_df.resample('D').agg({'HeartRate' : \"mean\"})\n",
    "print(df)\n",
    "\n",
    "# set data\n",
    "x = df.index\n",
    "y = df['HeartRate']\n",
    "\n",
    "# configure scatterplot\n",
    "plt.scatter(x, y)\n",
    "\n",
    "# rename x-axis data labels\n",
    "labels = df.dropna().index    # drop rows with NaN\n",
    "labels = [str(date).split(' ')[0] for date in labels]\n",
    "plt.xticks(df.dropna().index, labels, rotation=45)\n",
    "\n",
    "# set x and y-axis labels\n",
    "plt.xlabel('Day')\n",
    "plt.ylabel('Mean HeartRate')\n",
    "plt.title('Mean HeartRate as a function of time')\n",
    "plt.show()\n",
    "#plt.savefig(\"Mean HeartRate\")    # to save, comment out plt.show()"
   ]
  },
  {
   "cell_type": "code",
   "execution_count": null,
   "id": "90e33ab4-ab0a-40d1-b36e-b9c8d7b9f76c",
   "metadata": {},
   "outputs": [],
   "source": [
    "# filter on sleep data and apple watch info ONLY\n",
    "sleep_data = data[data['type'] == \"SleepAnalysis\"]\n",
    "sleep_data = sleep_data[sleep_data['sourceName'] == 'Mihir’s Apple\\xa0Watch']\n",
    "#print(sleep_data)\n",
    "\n",
    "# calulate time between date(s)\n",
    "sleep_data['time_asleep'] = sleep_data['endDate'] - sleep_data['startDate']\n",
    "#print(sleep_data['time_asleep'])\n",
    "# records are grouped by creation date, so lets used that to sum up the values we need here\n",
    "# total time asleep as a sum of the asleep time\n",
    "# awake and bed times are max's and min's\n",
    "# sleep count is the number of times the Apple Watch detected movement\n",
    "# rem is the number of sleep cycles over 90 minutes (divded by 90 if they were longer than 1 cycle)\n",
    "sleep_data = sleep_data.groupby('creationDate').agg(total_time_asleep=('time_asleep', 'sum'),\n",
    "    bed_time=('startDate', 'min'), \n",
    "    awake_time=('endDate', 'max'), \n",
    "    sleep_counts=('creationDate','count'), \n",
    "    rem_cycles=pd.NamedAgg(column='time_asleep', aggfunc=lambda x: (x // datetime.timedelta(minutes=90)).sum()))\n",
    "\n",
    "# Time in Bed will be different to Apple's reported figure - \n",
    "# as Apple uses the time you place your iPhone down as an additional \n",
    "# datapoint, which of course, is incorrect if you try to maintain \n",
    "# some device separation in the evenings.\n",
    "# For now - we will just use Apple Watch data here\n",
    "sleep_data['time_in_bed'] = sleep_data['awake_time'] - sleep_data['bed_time']\n",
    "sleep_data['restless_time'] = sleep_data['time_in_bed'] - sleep_data['total_time_asleep']\n",
    "\n",
    "# convert time duration to hours for easier plotting and comparison\n",
    "# time in bed and total time asleep seem to be exactly the same for me\n",
    "sleep_data['time_in_bed'] = (sleep_data['time_in_bed'].dt.total_seconds()/60/60)\n",
    "sleep_data['total_time_asleep'] = (sleep_data['total_time_asleep'].dt.total_seconds()/60/60)\n",
    "\n",
    "plt.plot(sleep_data.index, sleep_data['total_time_asleep'])\n",
    "# add labels\n",
    "for idx, label in enumerate(sleep_data['total_time_asleep']):\n",
    "    plt.text(sleep_data.index[idx], sleep_data['total_time_asleep'].iloc[idx], f\"{label:.2f}\", ha='center', va='bottom')\n",
    "\n",
    "# add recommended sleep line\n",
    "plt.axhline(y=8, color='red', linestyle='--', label='Recommended Sleep (8 hours)')\n",
    "\n",
    "# style graph\n",
    "plt.xticks(sleep_data.index, rotation=45)  # Use all dates from the index as x-ticks\n",
    "plt.xticks(rotation=45)\n",
    "plt.xlabel('Day')\n",
    "plt.ylabel('Total Sleep (hours)')\n",
    "plt.title('Sleep')\n",
    "plt.legend()\n",
    "plt.show()"
   ]
  },
  {
   "cell_type": "code",
   "execution_count": null,
   "id": "1d7debde-0855-4489-8c2c-fe131e5d7f2f",
   "metadata": {},
   "outputs": [],
   "source": [
    "noise_data = data[data['type'] == 'EnvironmentalAudioExposure']\n",
    "plt.plot(noise_data['creationDate'], noise_data['value'])\n",
    "plt.title('Environmental Audio Exposure Over Time')\n",
    "plt.xlabel('Date')\n",
    "plt.ylabel('Noise (dB)')\n",
    "plt.xticks(rotation=45)\n",
    "plt.show()"
   ]
  },
  {
   "cell_type": "code",
   "execution_count": null,
   "id": "c84e577b-2759-4a2a-a14a-a40c0c58e37e",
   "metadata": {},
   "outputs": [],
   "source": [
    "import seaborn as sns\n",
    "correlation_data = data.pivot_table(index='creationDate', columns='type', values='value')\n",
    "sns.heatmap(correlation_data.corr(), annot=True, cmap='coolwarm')\n",
    "plt.title('Correlation Between Health Metrics')\n",
    "plt.show()"
   ]
  }
 ],
 "metadata": {
  "kernelspec": {
   "display_name": "Python 3 (ipykernel)",
   "language": "python",
   "name": "python3"
  },
  "language_info": {
   "codemirror_mode": {
    "name": "ipython",
    "version": 3
   },
   "file_extension": ".py",
   "mimetype": "text/x-python",
   "name": "python",
   "nbconvert_exporter": "python",
   "pygments_lexer": "ipython3",
   "version": "3.12.7"
  }
 },
 "nbformat": 4,
 "nbformat_minor": 5
}
