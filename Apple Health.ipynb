{
 "cells": [
  {
   "cell_type": "code",
   "execution_count": 1,
   "id": "f86038e5-03e4-44dc-8b65-913928604442",
   "metadata": {},
   "outputs": [],
   "source": [
    "import xml.etree.ElementTree as ET\n",
    "import pandas as pd\n",
    "import numpy as np\n",
    "import matplotlib.pyplot as plt\n",
    "import datetime"
   ]
  },
  {
   "cell_type": "code",
   "execution_count": 2,
   "id": "5eab25fc-9958-4000-bfc4-3a612ecc63fd",
   "metadata": {},
   "outputs": [],
   "source": [
    "# create element tree object\n",
    "tree = ET.parse('apple_health_export/export.xml')"
   ]
  },
  {
   "cell_type": "code",
   "execution_count": 3,
   "id": "ff74b51d-b806-49b4-9321-86e8d6e9436c",
   "metadata": {},
   "outputs": [],
   "source": [
    "# for every health record, extract the attributes into a dictionary (columns). Then create a list (rows).\n",
    "root = tree.getroot()\n",
    "record_list = [x.attrib for x in root.iter('Record')]"
   ]
  },
  {
   "cell_type": "code",
   "execution_count": 4,
   "id": "33e563f0-2f5c-4264-954b-0586b82f0fe2",
   "metadata": {},
   "outputs": [],
   "source": [
    "# create DataFrame from a list (rows) of dictionaries (columns)\n",
    "data = pd.DataFrame(record_list)\n",
    "#print(data)"
   ]
  },
  {
   "cell_type": "code",
   "execution_count": 5,
   "id": "48284262-8071-4d4f-8cdd-e017e76bc853",
   "metadata": {},
   "outputs": [],
   "source": [
    "# proper type to dates\n",
    "for col in ['creationDate', 'startDate', 'endDate']:\n",
    "    data[col] = pd.to_datetime(data[col])\n",
    "#print(data)"
   ]
  },
  {
   "cell_type": "code",
   "execution_count": 6,
   "id": "81ea2ac6-ed52-4173-84b9-1e6681b915dc",
   "metadata": {},
   "outputs": [],
   "source": [
    "# value is numeric, NaN if fails\n",
    "data['value'] = pd.to_numeric(data['value'], errors='coerce')"
   ]
  },
  {
   "cell_type": "code",
   "execution_count": 7,
   "id": "dad481e1-b0f3-43cb-b26a-5dd34212a0da",
   "metadata": {},
   "outputs": [],
   "source": [
    "# some records do not measure anything, just count occurences\n",
    "# filling with 1.0 (= one time) makes it easier to aggregate\n",
    "data['value'] = data['value'].fillna(1.0)"
   ]
  },
  {
   "cell_type": "code",
   "execution_count": 8,
   "id": "62397571-7f3e-4467-99c6-0f6c6de27095",
   "metadata": {},
   "outputs": [],
   "source": [
    "# shorter observation names: use vectorized replace function\n",
    "data['type'] = data['type'].str.replace('HKQuantityTypeIdentifier', '')\n",
    "data['type'] = data['type'].str.replace('HKCategoryTypeIdentifier', '')\n",
    "data['type'] = data['type'].str.replace('HKDataType', '')"
   ]
  },
  {
   "cell_type": "code",
   "execution_count": 9,
   "id": "44a2f36f-67be-4f2c-83de-ce6a340af63c",
   "metadata": {},
   "outputs": [
    {
     "name": "stdout",
     "output_type": "stream",
     "text": [
      "Shape: (284034, 9)\n",
      "Columns: Index(['type', 'sourceName', 'sourceVersion', 'unit', 'creationDate',\n",
      "       'startDate', 'endDate', 'value', 'device'],\n",
      "      dtype='object')\n",
      "Types: 32 \n",
      " ['DietaryWater' 'Height' 'BodyMass' 'HeartRate' 'RespiratoryRate'\n",
      " 'StepCount' 'DistanceWalkingRunning' 'BasalEnergyBurned'\n",
      " 'ActiveEnergyBurned' 'FlightsClimbed' 'AppleExerciseTime'\n",
      " 'RestingHeartRate' 'WalkingHeartRateAverage' 'EnvironmentalAudioExposure'\n",
      " 'HeadphoneAudioExposure' 'WalkingDoubleSupportPercentage'\n",
      " 'AppleStandTime' 'WalkingSpeed' 'WalkingStepLength'\n",
      " 'WalkingAsymmetryPercentage' 'StairAscentSpeed' 'StairDescentSpeed'\n",
      " 'SleepDurationGoal' 'AppleWalkingSteadiness'\n",
      " 'AppleSleepingWristTemperature' 'TimeInDaylight' 'PhysicalEffort'\n",
      " 'SleepAnalysis' 'AppleStandHour' 'HighHeartRateEvent'\n",
      " 'AudioExposureEvent' 'HeartRateVariabilitySDNN']\n",
      "Sources: 4 \n",
      " ['WaterMinder' 'Health' 'Mihir’s Apple\\xa0Watch' 'TheOneIphone']\n"
     ]
    }
   ],
   "source": [
    "# What data looks like\n",
    "\n",
    "# rows x columns\n",
    "print(\"Shape:\", data.shape)\n",
    "# all column names\n",
    "print(\"Columns:\", data.columns)\n",
    "# all data types\n",
    "types = data.type.unique()\n",
    "print(\"Types:\", len(types), '\\n', types)\n",
    "# data sources\n",
    "sources = data.sourceName.unique()\n",
    "print(\"Sources:\", len(sources), '\\n', sources)"
   ]
  },
  {
   "cell_type": "code",
   "execution_count": 10,
   "id": "b949a902-2b8b-419b-9c2b-20c8132fee2f",
   "metadata": {},
   "outputs": [
    {
     "name": "stdout",
     "output_type": "stream",
     "text": [
      "type                       ActiveEnergyBurned  AppleExerciseTime  \\\n",
      "endDate                                                            \n",
      "2015-03-02 20:01:32-06:00                 NaN                NaN   \n",
      "2015-03-02 20:01:34-06:00                 NaN                NaN   \n",
      "2015-03-02 20:01:37-06:00                 NaN                NaN   \n",
      "2015-03-02 20:01:40-06:00                 NaN                NaN   \n",
      "2015-03-02 20:01:42-06:00                 NaN                NaN   \n",
      "...                                       ...                ...   \n",
      "2024-12-30 13:39:25-06:00               0.236                NaN   \n",
      "2024-12-30 13:43:53-06:00                 NaN                NaN   \n",
      "2024-12-30 13:44:38-06:00                 NaN                NaN   \n",
      "2024-12-30 13:49:22-06:00               1.631                NaN   \n",
      "2024-12-30 14:00:00-06:00                 NaN                NaN   \n",
      "\n",
      "type                       AppleSleepingWristTemperature  AppleStandHour  \\\n",
      "endDate                                                                    \n",
      "2015-03-02 20:01:32-06:00                            NaN             NaN   \n",
      "2015-03-02 20:01:34-06:00                            NaN             NaN   \n",
      "2015-03-02 20:01:37-06:00                            NaN             NaN   \n",
      "2015-03-02 20:01:40-06:00                            NaN             NaN   \n",
      "2015-03-02 20:01:42-06:00                            NaN             NaN   \n",
      "...                                                  ...             ...   \n",
      "2024-12-30 13:39:25-06:00                            NaN             NaN   \n",
      "2024-12-30 13:43:53-06:00                            NaN             NaN   \n",
      "2024-12-30 13:44:38-06:00                            NaN             NaN   \n",
      "2024-12-30 13:49:22-06:00                            NaN             NaN   \n",
      "2024-12-30 14:00:00-06:00                            NaN             1.0   \n",
      "\n",
      "type                       AppleStandTime  AppleWalkingSteadiness  \\\n",
      "endDate                                                             \n",
      "2015-03-02 20:01:32-06:00             NaN                     NaN   \n",
      "2015-03-02 20:01:34-06:00             NaN                     NaN   \n",
      "2015-03-02 20:01:37-06:00             NaN                     NaN   \n",
      "2015-03-02 20:01:40-06:00             NaN                     NaN   \n",
      "2015-03-02 20:01:42-06:00             NaN                     NaN   \n",
      "...                                   ...                     ...   \n",
      "2024-12-30 13:39:25-06:00             NaN                     NaN   \n",
      "2024-12-30 13:43:53-06:00             NaN                     NaN   \n",
      "2024-12-30 13:44:38-06:00             NaN                     NaN   \n",
      "2024-12-30 13:49:22-06:00             NaN                     NaN   \n",
      "2024-12-30 14:00:00-06:00             NaN                     NaN   \n",
      "\n",
      "type                       AudioExposureEvent  BasalEnergyBurned  BodyMass  \\\n",
      "endDate                                                                      \n",
      "2015-03-02 20:01:32-06:00                 NaN                NaN       NaN   \n",
      "2015-03-02 20:01:34-06:00                 NaN                NaN       NaN   \n",
      "2015-03-02 20:01:37-06:00                 NaN                NaN       NaN   \n",
      "2015-03-02 20:01:40-06:00                 NaN                NaN       NaN   \n",
      "2015-03-02 20:01:42-06:00                 NaN                NaN       NaN   \n",
      "...                                       ...                ...       ...   \n",
      "2024-12-30 13:39:25-06:00                 NaN                NaN       NaN   \n",
      "2024-12-30 13:43:53-06:00                 NaN              16.83       NaN   \n",
      "2024-12-30 13:44:38-06:00                 NaN                NaN       NaN   \n",
      "2024-12-30 13:49:22-06:00                 NaN                NaN       NaN   \n",
      "2024-12-30 14:00:00-06:00                 NaN                NaN       NaN   \n",
      "\n",
      "type                       DietaryWater  ...  SleepDurationGoal  \\\n",
      "endDate                                  ...                      \n",
      "2015-03-02 20:01:32-06:00           NaN  ...                NaN   \n",
      "2015-03-02 20:01:34-06:00           NaN  ...                NaN   \n",
      "2015-03-02 20:01:37-06:00           NaN  ...                NaN   \n",
      "2015-03-02 20:01:40-06:00           NaN  ...                NaN   \n",
      "2015-03-02 20:01:42-06:00           NaN  ...                NaN   \n",
      "...                                 ...  ...                ...   \n",
      "2024-12-30 13:39:25-06:00           NaN  ...                NaN   \n",
      "2024-12-30 13:43:53-06:00           NaN  ...                NaN   \n",
      "2024-12-30 13:44:38-06:00           NaN  ...                NaN   \n",
      "2024-12-30 13:49:22-06:00           NaN  ...                NaN   \n",
      "2024-12-30 14:00:00-06:00           NaN  ...                NaN   \n",
      "\n",
      "type                       StairAscentSpeed  StairDescentSpeed  StepCount  \\\n",
      "endDate                                                                     \n",
      "2015-03-02 20:01:32-06:00               NaN                NaN       12.0   \n",
      "2015-03-02 20:01:34-06:00               NaN                NaN        3.0   \n",
      "2015-03-02 20:01:37-06:00               NaN                NaN        4.0   \n",
      "2015-03-02 20:01:40-06:00               NaN                NaN        5.0   \n",
      "2015-03-02 20:01:42-06:00               NaN                NaN        4.0   \n",
      "...                                     ...                ...        ...   \n",
      "2024-12-30 13:39:25-06:00               NaN                NaN        NaN   \n",
      "2024-12-30 13:43:53-06:00               NaN                NaN        NaN   \n",
      "2024-12-30 13:44:38-06:00               NaN                NaN        NaN   \n",
      "2024-12-30 13:49:22-06:00               NaN                NaN        NaN   \n",
      "2024-12-30 14:00:00-06:00               NaN                NaN        NaN   \n",
      "\n",
      "type                       TimeInDaylight  WalkingAsymmetryPercentage  \\\n",
      "endDate                                                                 \n",
      "2015-03-02 20:01:32-06:00             NaN                         NaN   \n",
      "2015-03-02 20:01:34-06:00             NaN                         NaN   \n",
      "2015-03-02 20:01:37-06:00             NaN                         NaN   \n",
      "2015-03-02 20:01:40-06:00             NaN                         NaN   \n",
      "2015-03-02 20:01:42-06:00             NaN                         NaN   \n",
      "...                                   ...                         ...   \n",
      "2024-12-30 13:39:25-06:00             NaN                         NaN   \n",
      "2024-12-30 13:43:53-06:00             NaN                         NaN   \n",
      "2024-12-30 13:44:38-06:00             NaN                         NaN   \n",
      "2024-12-30 13:49:22-06:00             NaN                         NaN   \n",
      "2024-12-30 14:00:00-06:00             NaN                         NaN   \n",
      "\n",
      "type                       WalkingDoubleSupportPercentage  \\\n",
      "endDate                                                     \n",
      "2015-03-02 20:01:32-06:00                             NaN   \n",
      "2015-03-02 20:01:34-06:00                             NaN   \n",
      "2015-03-02 20:01:37-06:00                             NaN   \n",
      "2015-03-02 20:01:40-06:00                             NaN   \n",
      "2015-03-02 20:01:42-06:00                             NaN   \n",
      "...                                                   ...   \n",
      "2024-12-30 13:39:25-06:00                             NaN   \n",
      "2024-12-30 13:43:53-06:00                             NaN   \n",
      "2024-12-30 13:44:38-06:00                             NaN   \n",
      "2024-12-30 13:49:22-06:00                             NaN   \n",
      "2024-12-30 14:00:00-06:00                             NaN   \n",
      "\n",
      "type                       WalkingHeartRateAverage  WalkingSpeed  \\\n",
      "endDate                                                            \n",
      "2015-03-02 20:01:32-06:00                      NaN           NaN   \n",
      "2015-03-02 20:01:34-06:00                      NaN           NaN   \n",
      "2015-03-02 20:01:37-06:00                      NaN           NaN   \n",
      "2015-03-02 20:01:40-06:00                      NaN           NaN   \n",
      "2015-03-02 20:01:42-06:00                      NaN           NaN   \n",
      "...                                            ...           ...   \n",
      "2024-12-30 13:39:25-06:00                      NaN           NaN   \n",
      "2024-12-30 13:43:53-06:00                      NaN           NaN   \n",
      "2024-12-30 13:44:38-06:00                      NaN           NaN   \n",
      "2024-12-30 13:49:22-06:00                      NaN           NaN   \n",
      "2024-12-30 14:00:00-06:00                      NaN           NaN   \n",
      "\n",
      "type                       WalkingStepLength  \n",
      "endDate                                       \n",
      "2015-03-02 20:01:32-06:00                NaN  \n",
      "2015-03-02 20:01:34-06:00                NaN  \n",
      "2015-03-02 20:01:37-06:00                NaN  \n",
      "2015-03-02 20:01:40-06:00                NaN  \n",
      "2015-03-02 20:01:42-06:00                NaN  \n",
      "...                                      ...  \n",
      "2024-12-30 13:39:25-06:00                NaN  \n",
      "2024-12-30 13:43:53-06:00                NaN  \n",
      "2024-12-30 13:44:38-06:00                NaN  \n",
      "2024-12-30 13:49:22-06:00                NaN  \n",
      "2024-12-30 14:00:00-06:00                NaN  \n",
      "\n",
      "[166421 rows x 32 columns]\n"
     ]
    }
   ],
   "source": [
    "# pivot and resample\n",
    "# body mass and total walking distance\n",
    "pivot_df = data.pivot_table(index='endDate', columns='type', values='value')\n",
    "print(pivot_df)"
   ]
  },
  {
   "cell_type": "code",
   "execution_count": 54,
   "id": "b8cae631-5ec5-48ba-ae72-09975f1af77e",
   "metadata": {},
   "outputs": [
    {
     "name": "stdout",
     "output_type": "stream",
     "text": [
      "type                       HeartRate\n",
      "endDate                             \n",
      "2015-03-02 00:00:00-06:00        NaN\n",
      "2015-03-03 00:00:00-06:00        NaN\n",
      "2015-03-04 00:00:00-06:00        NaN\n",
      "2015-03-05 00:00:00-06:00        NaN\n",
      "2015-03-06 00:00:00-06:00        NaN\n",
      "...                              ...\n",
      "2024-12-26 00:00:00-06:00  85.742420\n",
      "2024-12-27 00:00:00-06:00  77.617457\n",
      "2024-12-28 00:00:00-06:00  86.224374\n",
      "2024-12-29 00:00:00-06:00  80.744144\n",
      "2024-12-30 00:00:00-06:00  74.220617\n",
      "\n",
      "[3592 rows x 1 columns]\n"
     ]
    },
    {
     "data": {
      "image/png": "[encoded data removed]",
      "text/plain": [
       "<Figure size 640x480 with 1 Axes>"
      ]
     },
     "metadata": {},
     "output_type": "display_data"
    }
   ],
   "source": [
    "df = pivot_df.resample('D').agg({'HeartRate' : \"mean\"})\n",
    "print(df)\n",
    "\n",
    "# set data\n",
    "x = df.index\n",
    "y = df['HeartRate']\n",
    "\n",
    "# configure scatterplot\n",
    "plt.scatter(x, y)\n",
    "\n",
    "# rename x-axis data labels\n",
    "labels = df.dropna().index    # drop rows with NaN\n",
    "labels = [str(date).split(' ')[0] for date in labels]\n",
    "plt.xticks(df.dropna().index, labels, rotation=45)\n",
    "\n",
    "# set x and y-axis labels\n",
    "plt.xlabel('Day')\n",
    "plt.ylabel('Mean HeartRate')\n",
    "plt.title('Mean HeartRate as a function of time')\n",
    "plt.show()\n",
    "#plt.savefig(\"Mean HeartRate\")    # to save, comment out plt.show()"
   ]
  },
  {
   "cell_type": "code",
   "execution_count": 63,
   "id": "90e33ab4-ab0a-40d1-b36e-b9c8d7b9f76c",
   "metadata": {},
   "outputs": [
    {
     "data": {
      "image/png": "[encoded data removed]",
      "text/plain": [
       "<Figure size 640x480 with 1 Axes>"
      ]
     },
     "metadata": {},
     "output_type": "display_data"
    }
   ],
   "source": [
    "# filter on sleep data and apple watch info ONLY\n",
    "sleep_data = data[data['type'] == \"SleepAnalysis\"]\n",
    "sleep_data = sleep_data[sleep_data['sourceName'] == 'Mihir’s Apple\\xa0Watch']\n",
    "#print(sleep_data)\n",
    "\n",
    "# calulate time between date(s)\n",
    "sleep_data['time_asleep'] = sleep_data['endDate'] - sleep_data['startDate']\n",
    "#print(sleep_data['time_asleep'])\n",
    "# records are grouped by creation date, so lets used that to sum up the values we need here\n",
    "# total time asleep as a sum of the asleep time\n",
    "# awake and bed times are max's and min's\n",
    "# sleep count is the number of times the Apple Watch detected movement\n",
    "# rem is the number of sleep cycles over 90 minutes (divded by 90 if they were longer than 1 cycle)\n",
    "sleep_data = sleep_data.groupby('creationDate').agg(total_time_asleep=('time_asleep', 'sum'),\n",
    "    bed_time=('startDate', 'min'), \n",
    "    awake_time=('endDate', 'max'), \n",
    "    sleep_counts=('creationDate','count'), \n",
    "    rem_cycles=pd.NamedAgg(column='time_asleep', aggfunc=lambda x: (x // datetime.timedelta(minutes=90)).sum()))\n",
    "\n",
    "# Time in Bed will be different to Apple's reported figure - \n",
    "# as Apple uses the time you place your iPhone down as an additional \n",
    "# datapoint, which of course, is incorrect if you try to maintain \n",
    "# some device separation in the evenings.\n",
    "# For now - we will just use Apple Watch data here\n",
    "sleep_data['time_in_bed'] = sleep_data['awake_time'] - sleep_data['bed_time']\n",
    "sleep_data['restless_time'] = sleep_data['time_in_bed'] - sleep_data['total_time_asleep']\n",
    "\n",
    "# convert time duration to hours for easier plotting and comparison\n",
    "# time in bed and total time asleep seem to be exactly the same for me\n",
    "sleep_data['time_in_bed'] = (sleep_data['time_in_bed'].dt.total_seconds()/60/60)\n",
    "sleep_data['total_time_asleep'] = (sleep_data['total_time_asleep'].dt.total_seconds()/60/60)\n",
    "\n",
    "#chart1 = sleep_data[['time_in_bed','total_time_asleep']].plot(use_index=True)\n",
    "plt.scatter(sleep_data.index, sleep_data['total_time_asleep'])\n",
    "plt.xticks(sleep_data.index, rotation=45)  # Use all dates from the index as x-ticks\n",
    "plt.xticks(rotation=45)\n",
    "plt.xlabel('Day')\n",
    "plt.ylabel('Total Sleep (hours)')\n",
    "plt.title('Sleep')\n",
    "plt.show()"
   ]
  },
  {
   "cell_type": "code",
   "execution_count": null,
   "id": "1d7debde-0855-4489-8c2c-fe131e5d7f2f",
   "metadata": {},
   "outputs": [],
   "source": []
  }
 ],
 "metadata": {
  "kernelspec": {
   "display_name": "Python 3 (ipykernel)",
   "language": "python",
   "name": "python3"
  },
  "language_info": {
   "codemirror_mode": {
    "name": "ipython",
    "version": 3
   },
   "file_extension": ".py",
   "mimetype": "text/x-python",
   "name": "python",
   "nbconvert_exporter": "python",
   "pygments_lexer": "ipython3",
   "version": "3.12.7"
  }
 },
 "nbformat": 4,
 "nbformat_minor": 5
}
