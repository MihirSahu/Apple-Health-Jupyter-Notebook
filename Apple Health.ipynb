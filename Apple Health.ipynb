{
 "cells": [
  {
   "cell_type": "code",
   "execution_count": 35,
   "id": "f86038e5-03e4-44dc-8b65-913928604442",
   "metadata": {},
   "outputs": [],
   "source": [
    "import xml.etree.ElementTree as ET\n",
    "import pandas as pd\n",
    "import numpy as np\n",
    "import matplotlib.pyplot as plt"
   ]
  },
  {
   "cell_type": "code",
   "execution_count": 2,
   "id": "5eab25fc-9958-4000-bfc4-3a612ecc63fd",
   "metadata": {},
   "outputs": [],
   "source": [
    "# create element tree object\n",
    "tree = ET.parse('apple_health_export/export.xml')"
   ]
  },
  {
   "cell_type": "code",
   "execution_count": 3,
   "id": "ff74b51d-b806-49b4-9321-86e8d6e9436c",
   "metadata": {},
   "outputs": [],
   "source": [
    "# for every health record, extract the attributes into a dictionary (columns). Then create a list (rows).\n",
    "root = tree.getroot()\n",
    "record_list = [x.attrib for x in root.iter('Record')]"
   ]
  },
  {
   "cell_type": "code",
   "execution_count": 4,
   "id": "33e563f0-2f5c-4264-954b-0586b82f0fe2",
   "metadata": {},
   "outputs": [],
   "source": [
    "# create DataFrame from a list (rows) of dictionaries (columns)\n",
    "data = pd.DataFrame(record_list)\n",
    "#print(data)"
   ]
  },
  {
   "cell_type": "code",
   "execution_count": 5,
   "id": "48284262-8071-4d4f-8cdd-e017e76bc853",
   "metadata": {},
   "outputs": [],
   "source": [
    "# proper type to dates\n",
    "for col in ['creationDate', 'startDate', 'endDate']:\n",
    "    data[col] = pd.to_datetime(data[col])\n",
    "#print(data)"
   ]
  },
  {
   "cell_type": "code",
   "execution_count": 6,
   "id": "81ea2ac6-ed52-4173-84b9-1e6681b915dc",
   "metadata": {},
   "outputs": [],
   "source": [
    "# value is numeric, NaN if fails\n",
    "data['value'] = pd.to_numeric(data['value'], errors='coerce')"
   ]
  },
  {
   "cell_type": "code",
   "execution_count": 7,
   "id": "dad481e1-b0f3-43cb-b26a-5dd34212a0da",
   "metadata": {},
   "outputs": [],
   "source": [
    "# some records do not measure anything, just count occurences\n",
    "# filling with 1.0 (= one time) makes it easier to aggregate\n",
    "data['value'] = data['value'].fillna(1.0)"
   ]
  },
  {
   "cell_type": "code",
   "execution_count": 8,
   "id": "62397571-7f3e-4467-99c6-0f6c6de27095",
   "metadata": {},
   "outputs": [],
   "source": [
    "# shorter observation names: use vectorized replace function\n",
    "data['type'] = data['type'].str.replace('HKQuantityTypeIdentifier', '')\n",
    "data['type'] = data['type'].str.replace('HKCategoryTypeIdentifier', '')"
   ]
  },
  {
   "cell_type": "code",
   "execution_count": 9,
   "id": "44a2f36f-67be-4f2c-83de-ce6a340af63c",
   "metadata": {},
   "outputs": [
    {
     "name": "stdout",
     "output_type": "stream",
     "text": [
      "(279088, 9)\n",
      "Index(['type', 'sourceName', 'sourceVersion', 'unit', 'creationDate',\n",
      "       'startDate', 'endDate', 'value', 'device'],\n",
      "      dtype='object')\n",
      "['DietaryWater' 'Height' 'BodyMass' 'HeartRate' 'RespiratoryRate'\n",
      " 'StepCount' 'DistanceWalkingRunning' 'BasalEnergyBurned'\n",
      " 'ActiveEnergyBurned' 'FlightsClimbed' 'AppleExerciseTime'\n",
      " 'RestingHeartRate' 'WalkingHeartRateAverage' 'EnvironmentalAudioExposure'\n",
      " 'HeadphoneAudioExposure' 'WalkingDoubleSupportPercentage'\n",
      " 'AppleStandTime' 'WalkingSpeed' 'WalkingStepLength'\n",
      " 'WalkingAsymmetryPercentage' 'StairAscentSpeed' 'StairDescentSpeed'\n",
      " 'HKDataTypeSleepDurationGoal' 'AppleWalkingSteadiness'\n",
      " 'AppleSleepingWristTemperature' 'TimeInDaylight' 'PhysicalEffort'\n",
      " 'SleepAnalysis' 'AppleStandHour' 'AudioExposureEvent'\n",
      " 'HeartRateVariabilitySDNN']\n"
     ]
    }
   ],
   "source": [
    "# What data looks like\n",
    "\n",
    "# rows x columns\n",
    "print(data.shape)\n",
    "# all column names\n",
    "print(data.columns)\n",
    "# all data types\n",
    "print(data.type.unique())"
   ]
  },
  {
   "cell_type": "code",
   "execution_count": 17,
   "id": "b949a902-2b8b-419b-9c2b-20c8132fee2f",
   "metadata": {},
   "outputs": [
    {
     "name": "stdout",
     "output_type": "stream",
     "text": [
      "type                       HeartRate\n",
      "endDate                             \n",
      "2015-03-02 00:00:00-06:00        NaN\n",
      "2015-03-03 00:00:00-06:00        NaN\n",
      "2015-03-04 00:00:00-06:00        NaN\n",
      "2015-03-05 00:00:00-06:00        NaN\n",
      "2015-03-06 00:00:00-06:00        NaN\n",
      "...                              ...\n",
      "2024-12-22 00:00:00-06:00  99.818849\n",
      "2024-12-23 00:00:00-06:00  91.847156\n",
      "2024-12-24 00:00:00-06:00  88.043136\n",
      "2024-12-25 00:00:00-06:00  74.005484\n",
      "2024-12-26 00:00:00-06:00  71.705472\n",
      "\n",
      "[3588 rows x 1 columns]\n"
     ]
    }
   ],
   "source": [
    "# pivot and resample\n",
    "# body mass and total walking distance\n",
    "pivot_df = data.pivot_table(index='endDate', columns='type', values='value')\n",
    "#df = pivot_df.resample('ME').agg({'BodyMass' : \"mean\", 'DistanceWalkingRunning' : \"sum\"})\n",
    "df = pivot_df.resample('D').agg({'HeartRate' : \"mean\"})\n",
    "print(df)"
   ]
  },
  {
   "cell_type": "code",
   "execution_count": 59,
   "id": "b8cae631-5ec5-48ba-ae72-09975f1af77e",
   "metadata": {},
   "outputs": [
    {
     "data": {
      "image/png": "[encoded data removed]",
      "text/plain": [
       "<Figure size 640x480 with 1 Axes>"
      ]
     },
     "metadata": {},
     "output_type": "display_data"
    }
   ],
   "source": [
    "# set data\n",
    "x = df.index\n",
    "y = df['HeartRate']\n",
    "\n",
    "# configure scatterplot\n",
    "plt.scatter(x, y)\n",
    "\n",
    "# rename x-axis data labels\n",
    "labels = df.dropna().index    # drop rows with NaN\n",
    "labels = [str(date).split(' ')[0] for date in labels]\n",
    "plt.xticks(df.dropna().index, labels)\n",
    "\n",
    "# set x and y-axis labels\n",
    "plt.xlabel('Day')\n",
    "plt.ylabel('Mean HeartRate')\n",
    "plt.title('Mean HeartRate as a function of time')\n",
    "plt.show()\n",
    "#plt.savefig(\"Mean HeartRate\")    # to save, comment out plt.show()"
   ]
  },
  {
   "cell_type": "code",
   "execution_count": null,
   "id": "1d7debde-0855-4489-8c2c-fe131e5d7f2f",
   "metadata": {},
   "outputs": [],
   "source": []
  }
 ],
 "metadata": {
  "kernelspec": {
   "display_name": "Python 3 (ipykernel)",
   "language": "python",
   "name": "python3"
  },
  "language_info": {
   "codemirror_mode": {
    "name": "ipython",
    "version": 3
   },
   "file_extension": ".py",
   "mimetype": "text/x-python",
   "name": "python",
   "nbconvert_exporter": "python",
   "pygments_lexer": "ipython3",
   "version": "3.12.7"
  }
 },
 "nbformat": 4,
 "nbformat_minor": 5
}
